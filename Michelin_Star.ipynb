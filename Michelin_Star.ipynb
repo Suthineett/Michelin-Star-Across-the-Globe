{
  "nbformat": 4,
  "nbformat_minor": 0,
  "metadata": {
    "colab": {
      "name": "Michelin Star.ipynb",
      "provenance": [],
      "collapsed_sections": [],
      "authorship_tag": "ABX9TyMjw6nnu/tipUrtpR3G9kUt",
      "include_colab_link": true
    },
    "kernelspec": {
      "name": "python3",
      "display_name": "Python 3"
    },
    "language_info": {
      "name": "python"
    }
  },
  "cells": [
    {
      "cell_type": "markdown",
      "metadata": {
        "id": "view-in-github",
        "colab_type": "text"
      },
      "source": [
        "<a href=\"https://colab.research.google.com/github/Suthineett/Michelin-Star-Across-the-Globe/blob/main/Michelin_Star.ipynb\" target=\"_parent\"><img src=\"https://colab.research.google.com/assets/colab-badge.svg\" alt=\"Open In Colab\"/></a>"
      ]
    },
    {
      "cell_type": "code",
      "execution_count": 270,
      "metadata": {
        "id": "q27lj167G_Y5"
      },
      "outputs": [],
      "source": [
        "# Import Libraries\n",
        "import pandas as pd\n",
        "import numpy as np\n",
        "import matplotlib.pyplot as plt\n"
      ]
    },
    {
      "cell_type": "code",
      "source": [
        "# Import Data\n",
        "raw = pd.read_excel('/content/michelin_star_restaurant.xls')"
      ],
      "metadata": {
        "id": "0rlOd2crHIP5"
      },
      "execution_count": 271,
      "outputs": []
    },
    {
      "cell_type": "code",
      "source": [
        "# Data Exploration\n",
        "raw.info() # 3192 rows × 13 columns\n",
        "\n"
      ],
      "metadata": {
        "colab": {
          "base_uri": "https://localhost:8080/"
        },
        "id": "PkWQhc28HINr",
        "outputId": "676bf1dd-8242-4ac9-ffb8-e443435abb7b"
      },
      "execution_count": 272,
      "outputs": [
        {
          "output_type": "stream",
          "name": "stdout",
          "text": [
            "<class 'pandas.core.frame.DataFrame'>\n",
            "RangeIndex: 3192 entries, 0 to 3191\n",
            "Data columns (total 13 columns):\n",
            " #   Column          Non-Null Count  Dtype  \n",
            "---  ------          --------------  -----  \n",
            " 0   name            3192 non-null   object \n",
            " 1   blurb           3192 non-null   object \n",
            " 2   michelin_award  3192 non-null   object \n",
            " 3   city            3192 non-null   object \n",
            " 4   country         3192 non-null   object \n",
            " 5   lat             3192 non-null   float64\n",
            " 6   lon             3192 non-null   float64\n",
            " 7   image           3174 non-null   object \n",
            " 8   chef            2805 non-null   object \n",
            " 9   cuisine1        3192 non-null   object \n",
            " 10  cuisine2        830 non-null    object \n",
            " 11  url             3192 non-null   object \n",
            " 12  url2            3085 non-null   object \n",
            "dtypes: float64(2), object(11)\n",
            "memory usage: 324.3+ KB\n"
          ]
        }
      ]
    },
    {
      "cell_type": "code",
      "source": [
        "raw.head() #Found outliers columns (image,url,url2) / michelin_award \n"
      ],
      "metadata": {
        "colab": {
          "base_uri": "https://localhost:8080/",
          "height": 617
        },
        "id": "XJtReWdLHISm",
        "outputId": "4da24404-8b7e-45fb-a018-e0b04be30765"
      },
      "execution_count": 273,
      "outputs": [
        {
          "output_type": "execute_result",
          "data": {
            "text/plain": [
              "                 name                                              blurb  \\\n",
              "0           'L Chimpl  Haute cuisine has arrived at the ‚Äúsimple‚Äù ...   \n",
              "1  't Amsterdammertje       If you‚Äôre a fan of hip, vibrant and trendy   \n",
              "2          't Fornuis  ‚Äôt Fornuis is a restaurant that has become rare   \n",
              "3        't Korennaer  Edwin Van Goethem jazzes up his cooking with i...   \n",
              "4          't Lansink  Warmth and character are the hallmarks of ‚Äôt...   \n",
              "\n",
              "  michelin_award                 city      country        lat        lon  \\\n",
              "0       ONE_STAR               Tamion        Italy  46.407342  11.656432   \n",
              "1       ONE_STAR  Loenen aan de Vecht  Netherlands  52.209859   5.021655   \n",
              "2       ONE_STAR            Antwerpen      Belgium  51.219039   4.399448   \n",
              "3       ONE_STAR     Nieuwkerken-Waas      Belgium  51.192947   4.178107   \n",
              "4       ONE_STAR              Hengelo  Netherlands  52.259676   6.782364   \n",
              "\n",
              "                                               image               chef  \\\n",
              "0  https://axwwgrkdco.cloudimg.io/v7/mitp-p-001-d...     Stefano Ghetta   \n",
              "1  https://axwwgrkdco.cloudimg.io/v7/mitp-p-001-d...     Andr√© Gerrits   \n",
              "2  https://axwwgrkdco.cloudimg.io/v7/mitp-p-001-d...       Johan Segers   \n",
              "3  https://axwwgrkdco.cloudimg.io/v7/mitp-p-001-d...  Edwin Van Goethem   \n",
              "4  https://axwwgrkdco.cloudimg.io/v7/mtp-cf-image...     Lars van Galen   \n",
              "\n",
              "          cuisine1       cuisine2  \\\n",
              "0         Creative   Contemporary   \n",
              "1         Creative            NaN   \n",
              "2  Classic Cuisine            NaN   \n",
              "3   Modern Cuisine            NaN   \n",
              "4   Modern Cuisine  Modern French   \n",
              "\n",
              "                                                 url  \\\n",
              "0  https://guide.michelin.com/en/trentino-alto-ad...   \n",
              "1  https://guide.michelin.com/en/utrecht/loenen-a...   \n",
              "2  https://guide.michelin.com/en/antwerpen/be-ant...   \n",
              "3  https://guide.michelin.com/en/oost-vlaanderen/...   \n",
              "4  https://guide.michelin.com/en/overijssel/henge...   \n",
              "\n",
              "                                                url2  \n",
              "0  https://guide.michelin.com/en/trentino-alto-ad...  \n",
              "1  https://guide.michelin.com/en/utrecht/loenen-a...  \n",
              "2  https://guide.michelin.com/en/antwerpen/be-ant...  \n",
              "3  https://guide.michelin.com/en/oost-vlaanderen/...  \n",
              "4  https://guide.michelin.com/en/overijssel/henge...  "
            ],
            "text/html": [
              "\n",
              "  <div id=\"df-2bb85d99-b22c-46cd-9e11-18eda3dfe711\">\n",
              "    <div class=\"colab-df-container\">\n",
              "      <div>\n",
              "<style scoped>\n",
              "    .dataframe tbody tr th:only-of-type {\n",
              "        vertical-align: middle;\n",
              "    }\n",
              "\n",
              "    .dataframe tbody tr th {\n",
              "        vertical-align: top;\n",
              "    }\n",
              "\n",
              "    .dataframe thead th {\n",
              "        text-align: right;\n",
              "    }\n",
              "</style>\n",
              "<table border=\"1\" class=\"dataframe\">\n",
              "  <thead>\n",
              "    <tr style=\"text-align: right;\">\n",
              "      <th></th>\n",
              "      <th>name</th>\n",
              "      <th>blurb</th>\n",
              "      <th>michelin_award</th>\n",
              "      <th>city</th>\n",
              "      <th>country</th>\n",
              "      <th>lat</th>\n",
              "      <th>lon</th>\n",
              "      <th>image</th>\n",
              "      <th>chef</th>\n",
              "      <th>cuisine1</th>\n",
              "      <th>cuisine2</th>\n",
              "      <th>url</th>\n",
              "      <th>url2</th>\n",
              "    </tr>\n",
              "  </thead>\n",
              "  <tbody>\n",
              "    <tr>\n",
              "      <th>0</th>\n",
              "      <td>'L Chimpl</td>\n",
              "      <td>Haute cuisine has arrived at the ‚Äúsimple‚Äù ...</td>\n",
              "      <td>ONE_STAR</td>\n",
              "      <td>Tamion</td>\n",
              "      <td>Italy</td>\n",
              "      <td>46.407342</td>\n",
              "      <td>11.656432</td>\n",
              "      <td>https://axwwgrkdco.cloudimg.io/v7/mitp-p-001-d...</td>\n",
              "      <td>Stefano Ghetta</td>\n",
              "      <td>Creative</td>\n",
              "      <td>Contemporary</td>\n",
              "      <td>https://guide.michelin.com/en/trentino-alto-ad...</td>\n",
              "      <td>https://guide.michelin.com/en/trentino-alto-ad...</td>\n",
              "    </tr>\n",
              "    <tr>\n",
              "      <th>1</th>\n",
              "      <td>'t Amsterdammertje</td>\n",
              "      <td>If you‚Äôre a fan of hip, vibrant and trendy</td>\n",
              "      <td>ONE_STAR</td>\n",
              "      <td>Loenen aan de Vecht</td>\n",
              "      <td>Netherlands</td>\n",
              "      <td>52.209859</td>\n",
              "      <td>5.021655</td>\n",
              "      <td>https://axwwgrkdco.cloudimg.io/v7/mitp-p-001-d...</td>\n",
              "      <td>Andr√© Gerrits</td>\n",
              "      <td>Creative</td>\n",
              "      <td>NaN</td>\n",
              "      <td>https://guide.michelin.com/en/utrecht/loenen-a...</td>\n",
              "      <td>https://guide.michelin.com/en/utrecht/loenen-a...</td>\n",
              "    </tr>\n",
              "    <tr>\n",
              "      <th>2</th>\n",
              "      <td>'t Fornuis</td>\n",
              "      <td>‚Äôt Fornuis is a restaurant that has become rare</td>\n",
              "      <td>ONE_STAR</td>\n",
              "      <td>Antwerpen</td>\n",
              "      <td>Belgium</td>\n",
              "      <td>51.219039</td>\n",
              "      <td>4.399448</td>\n",
              "      <td>https://axwwgrkdco.cloudimg.io/v7/mitp-p-001-d...</td>\n",
              "      <td>Johan Segers</td>\n",
              "      <td>Classic Cuisine</td>\n",
              "      <td>NaN</td>\n",
              "      <td>https://guide.michelin.com/en/antwerpen/be-ant...</td>\n",
              "      <td>https://guide.michelin.com/en/antwerpen/be-ant...</td>\n",
              "    </tr>\n",
              "    <tr>\n",
              "      <th>3</th>\n",
              "      <td>'t Korennaer</td>\n",
              "      <td>Edwin Van Goethem jazzes up his cooking with i...</td>\n",
              "      <td>ONE_STAR</td>\n",
              "      <td>Nieuwkerken-Waas</td>\n",
              "      <td>Belgium</td>\n",
              "      <td>51.192947</td>\n",
              "      <td>4.178107</td>\n",
              "      <td>https://axwwgrkdco.cloudimg.io/v7/mitp-p-001-d...</td>\n",
              "      <td>Edwin Van Goethem</td>\n",
              "      <td>Modern Cuisine</td>\n",
              "      <td>NaN</td>\n",
              "      <td>https://guide.michelin.com/en/oost-vlaanderen/...</td>\n",
              "      <td>https://guide.michelin.com/en/oost-vlaanderen/...</td>\n",
              "    </tr>\n",
              "    <tr>\n",
              "      <th>4</th>\n",
              "      <td>'t Lansink</td>\n",
              "      <td>Warmth and character are the hallmarks of ‚Äôt...</td>\n",
              "      <td>ONE_STAR</td>\n",
              "      <td>Hengelo</td>\n",
              "      <td>Netherlands</td>\n",
              "      <td>52.259676</td>\n",
              "      <td>6.782364</td>\n",
              "      <td>https://axwwgrkdco.cloudimg.io/v7/mtp-cf-image...</td>\n",
              "      <td>Lars van Galen</td>\n",
              "      <td>Modern Cuisine</td>\n",
              "      <td>Modern French</td>\n",
              "      <td>https://guide.michelin.com/en/overijssel/henge...</td>\n",
              "      <td>https://guide.michelin.com/en/overijssel/henge...</td>\n",
              "    </tr>\n",
              "  </tbody>\n",
              "</table>\n",
              "</div>\n",
              "      <button class=\"colab-df-convert\" onclick=\"convertToInteractive('df-2bb85d99-b22c-46cd-9e11-18eda3dfe711')\"\n",
              "              title=\"Convert this dataframe to an interactive table.\"\n",
              "              style=\"display:none;\">\n",
              "        \n",
              "  <svg xmlns=\"http://www.w3.org/2000/svg\" height=\"24px\"viewBox=\"0 0 24 24\"\n",
              "       width=\"24px\">\n",
              "    <path d=\"M0 0h24v24H0V0z\" fill=\"none\"/>\n",
              "    <path d=\"M18.56 5.44l.94 2.06.94-2.06 2.06-.94-2.06-.94-.94-2.06-.94 2.06-2.06.94zm-11 1L8.5 8.5l.94-2.06 2.06-.94-2.06-.94L8.5 2.5l-.94 2.06-2.06.94zm10 10l.94 2.06.94-2.06 2.06-.94-2.06-.94-.94-2.06-.94 2.06-2.06.94z\"/><path d=\"M17.41 7.96l-1.37-1.37c-.4-.4-.92-.59-1.43-.59-.52 0-1.04.2-1.43.59L10.3 9.45l-7.72 7.72c-.78.78-.78 2.05 0 2.83L4 21.41c.39.39.9.59 1.41.59.51 0 1.02-.2 1.41-.59l7.78-7.78 2.81-2.81c.8-.78.8-2.07 0-2.86zM5.41 20L4 18.59l7.72-7.72 1.47 1.35L5.41 20z\"/>\n",
              "  </svg>\n",
              "      </button>\n",
              "      \n",
              "  <style>\n",
              "    .colab-df-container {\n",
              "      display:flex;\n",
              "      flex-wrap:wrap;\n",
              "      gap: 12px;\n",
              "    }\n",
              "\n",
              "    .colab-df-convert {\n",
              "      background-color: #E8F0FE;\n",
              "      border: none;\n",
              "      border-radius: 50%;\n",
              "      cursor: pointer;\n",
              "      display: none;\n",
              "      fill: #1967D2;\n",
              "      height: 32px;\n",
              "      padding: 0 0 0 0;\n",
              "      width: 32px;\n",
              "    }\n",
              "\n",
              "    .colab-df-convert:hover {\n",
              "      background-color: #E2EBFA;\n",
              "      box-shadow: 0px 1px 2px rgba(60, 64, 67, 0.3), 0px 1px 3px 1px rgba(60, 64, 67, 0.15);\n",
              "      fill: #174EA6;\n",
              "    }\n",
              "\n",
              "    [theme=dark] .colab-df-convert {\n",
              "      background-color: #3B4455;\n",
              "      fill: #D2E3FC;\n",
              "    }\n",
              "\n",
              "    [theme=dark] .colab-df-convert:hover {\n",
              "      background-color: #434B5C;\n",
              "      box-shadow: 0px 1px 3px 1px rgba(0, 0, 0, 0.15);\n",
              "      filter: drop-shadow(0px 1px 2px rgba(0, 0, 0, 0.3));\n",
              "      fill: #FFFFFF;\n",
              "    }\n",
              "  </style>\n",
              "\n",
              "      <script>\n",
              "        const buttonEl =\n",
              "          document.querySelector('#df-2bb85d99-b22c-46cd-9e11-18eda3dfe711 button.colab-df-convert');\n",
              "        buttonEl.style.display =\n",
              "          google.colab.kernel.accessAllowed ? 'block' : 'none';\n",
              "\n",
              "        async function convertToInteractive(key) {\n",
              "          const element = document.querySelector('#df-2bb85d99-b22c-46cd-9e11-18eda3dfe711');\n",
              "          const dataTable =\n",
              "            await google.colab.kernel.invokeFunction('convertToInteractive',\n",
              "                                                     [key], {});\n",
              "          if (!dataTable) return;\n",
              "\n",
              "          const docLinkHtml = 'Like what you see? Visit the ' +\n",
              "            '<a target=\"_blank\" href=https://colab.research.google.com/notebooks/data_table.ipynb>data table notebook</a>'\n",
              "            + ' to learn more about interactive tables.';\n",
              "          element.innerHTML = '';\n",
              "          dataTable['output_type'] = 'display_data';\n",
              "          await google.colab.output.renderOutput(dataTable, element);\n",
              "          const docLink = document.createElement('div');\n",
              "          docLink.innerHTML = docLinkHtml;\n",
              "          element.appendChild(docLink);\n",
              "        }\n",
              "      </script>\n",
              "    </div>\n",
              "  </div>\n",
              "  "
            ]
          },
          "metadata": {},
          "execution_count": 273
        }
      ]
    },
    {
      "cell_type": "code",
      "source": [
        "raw.sample(10) #country name correction needed "
      ],
      "metadata": {
        "colab": {
          "base_uri": "https://localhost:8080/",
          "height": 826
        },
        "id": "jeRdraBrHIUz",
        "outputId": "78137d77-d8ea-4beb-9295-3289595c7b2a"
      },
      "execution_count": 274,
      "outputs": [
        {
          "output_type": "execute_result",
          "data": {
            "text/plain": [
              "                                name  \\\n",
              "496                Ch√¢teau de Mazan   \n",
              "2388  Ren He Guan (Zhaojiabang Road)   \n",
              "1549            La Table de La Butte   \n",
              "2780                            Tate   \n",
              "2993                     Walnut Tree   \n",
              "2601                       Slagmolen   \n",
              "450                Castel finedining   \n",
              "2634                         Spazio7   \n",
              "881                   Ginza Fujiyama   \n",
              "1603                           Laite   \n",
              "\n",
              "                                                  blurb michelin_award  \\\n",
              "496   Christophe Schuffenecker‚Äôs talent has been g...       ONE_STAR   \n",
              "2388  Dim yellow lights, a nostalgic d√©cor, 1930s m...       ONE_STAR   \n",
              "1549  Fresh, precise and aromatic: Nicolas Conraux, ...       ONE_STAR   \n",
              "2780  Owner-chef Vicky Lau tells edible stories with...      TWO_STARS   \n",
              "2993  The Walnut Tree is an iconic restaurant with a...       ONE_STAR   \n",
              "2601  This characterful restaurant is located in a w...      TWO_STARS   \n",
              "450   After more than 20 years, this restaurant has ...      TWO_STARS   \n",
              "2634  Situated on the first floor of the Spazio Espo...       ONE_STAR   \n",
              "881   Takao Fujiyama says that Kyo-ryori is rooted i...       ONE_STAR   \n",
              "1603  A family-run restaurant with two women at the ...       ONE_STAR   \n",
              "\n",
              "                   city         country        lat         lon  \\\n",
              "496               Mazan          France  44.056135    5.127167   \n",
              "2388           Shanghai  China Mainland  31.203604  121.453734   \n",
              "1549           Plouider          France  48.611053   -4.298648   \n",
              "2780          Hong Kong       Hong Kong  22.285576  114.147719   \n",
              "2993  Llanddewi Skirrid  United Kingdom  51.843504   -2.963228   \n",
              "2601         Opglabbeek         Belgium  51.043166    5.615923   \n",
              "450               Tirol           Italy  46.686222   11.156865   \n",
              "2634              Turin           Italy  45.057612    7.651921   \n",
              "881               Tokyo           Japan  35.673120  139.765523   \n",
              "1603            Sappada           Italy  46.568574   12.694816   \n",
              "\n",
              "                                                  image  \\\n",
              "496   https://axwwgrkdco.cloudimg.io/v7/mtp-cf-image...   \n",
              "2388  https://axwwgrkdco.cloudimg.io/v7/mtp-cf-image...   \n",
              "1549  https://axwwgrkdco.cloudimg.io/v7/mtp-cf-image...   \n",
              "2780  https://axwwgrkdco.cloudimg.io/v7/mtp-cf-image...   \n",
              "2993  https://axwwgrkdco.cloudimg.io/v7/mitp-p-001-d...   \n",
              "2601  https://axwwgrkdco.cloudimg.io/v7/mitp-p-001-d...   \n",
              "450   https://axwwgrkdco.cloudimg.io/v7/mitp-p-001-d...   \n",
              "2634  https://axwwgrkdco.cloudimg.io/v7/mitp-p-001-d...   \n",
              "881   https://axwwgrkdco.cloudimg.io/v7/mtp-cf-image...   \n",
              "1603  https://axwwgrkdco.cloudimg.io/v7/mitp-p-001-d...   \n",
              "\n",
              "                          chef             cuisine1             cuisine2  \\\n",
              "496   Christophe Schuffenecker       Modern Cuisine                  NaN   \n",
              "2388                       NaN         Shanghainese                  NaN   \n",
              "1549           Nicolas Conraux       Modern Cuisine                  NaN   \n",
              "2780                 Vicky LAU           Innovative                  NaN   \n",
              "2993                Shaun Hill       Modern British                  NaN   \n",
              "2601               Bert Meewis  Traditional Cuisine                  NaN   \n",
              "450             Gerhard Wieser             Creative       Modern Cuisine   \n",
              "2634          Alessandro Mecca       Modern Cuisine                  NaN   \n",
              "881             Takao FUJIYAMA             Japanese                  NaN   \n",
              "1603            Fabrizia Meroi     Regional Cuisine  Traditional Cuisine   \n",
              "\n",
              "                                                    url  \\\n",
              "496   https://guide.michelin.com/en/provence-alpes-c...   \n",
              "2388  https://guide.michelin.com/en/shanghai-municip...   \n",
              "1549  https://guide.michelin.com/en/bretagne/plouide...   \n",
              "2780  https://guide.michelin.com/hk/en/hong-kong-reg...   \n",
              "2993  https://guide.michelin.com/gb/en/monmouthshire...   \n",
              "2601  https://guide.michelin.com/en/be-limburg/opgla...   \n",
              "450   https://guide.michelin.com/en/trentino-alto-ad...   \n",
              "2634  https://guide.michelin.com/en/piemonte/torino/...   \n",
              "881   https://guide.michelin.com/jp/en/tokyo-region/...   \n",
              "1603  https://guide.michelin.com/en/veneto/sappada/r...   \n",
              "\n",
              "                                                   url2  \n",
              "496   https://guide.michelin.com/en/provence-alpes-c...  \n",
              "2388                                                NaN  \n",
              "1549  https://guide.michelin.com/en/bretagne/plouide...  \n",
              "2780  https://guide.michelin.com/en/hong-kong-region...  \n",
              "2993  https://guide.michelin.com/en/monmouthshire/ll...  \n",
              "2601  https://guide.michelin.com/en/be-limburg/opgla...  \n",
              "450   https://guide.michelin.com/en/trentino-alto-ad...  \n",
              "2634  https://guide.michelin.com/en/piemonte/torino/...  \n",
              "881   https://guide.michelin.com/en/tokyo-region/tok...  \n",
              "1603  https://guide.michelin.com/en/veneto/sappada/r...  "
            ],
            "text/html": [
              "\n",
              "  <div id=\"df-03f330fa-bb8c-45ad-85f8-6cb2c38ad9db\">\n",
              "    <div class=\"colab-df-container\">\n",
              "      <div>\n",
              "<style scoped>\n",
              "    .dataframe tbody tr th:only-of-type {\n",
              "        vertical-align: middle;\n",
              "    }\n",
              "\n",
              "    .dataframe tbody tr th {\n",
              "        vertical-align: top;\n",
              "    }\n",
              "\n",
              "    .dataframe thead th {\n",
              "        text-align: right;\n",
              "    }\n",
              "</style>\n",
              "<table border=\"1\" class=\"dataframe\">\n",
              "  <thead>\n",
              "    <tr style=\"text-align: right;\">\n",
              "      <th></th>\n",
              "      <th>name</th>\n",
              "      <th>blurb</th>\n",
              "      <th>michelin_award</th>\n",
              "      <th>city</th>\n",
              "      <th>country</th>\n",
              "      <th>lat</th>\n",
              "      <th>lon</th>\n",
              "      <th>image</th>\n",
              "      <th>chef</th>\n",
              "      <th>cuisine1</th>\n",
              "      <th>cuisine2</th>\n",
              "      <th>url</th>\n",
              "      <th>url2</th>\n",
              "    </tr>\n",
              "  </thead>\n",
              "  <tbody>\n",
              "    <tr>\n",
              "      <th>496</th>\n",
              "      <td>Ch√¢teau de Mazan</td>\n",
              "      <td>Christophe Schuffenecker‚Äôs talent has been g...</td>\n",
              "      <td>ONE_STAR</td>\n",
              "      <td>Mazan</td>\n",
              "      <td>France</td>\n",
              "      <td>44.056135</td>\n",
              "      <td>5.127167</td>\n",
              "      <td>https://axwwgrkdco.cloudimg.io/v7/mtp-cf-image...</td>\n",
              "      <td>Christophe Schuffenecker</td>\n",
              "      <td>Modern Cuisine</td>\n",
              "      <td>NaN</td>\n",
              "      <td>https://guide.michelin.com/en/provence-alpes-c...</td>\n",
              "      <td>https://guide.michelin.com/en/provence-alpes-c...</td>\n",
              "    </tr>\n",
              "    <tr>\n",
              "      <th>2388</th>\n",
              "      <td>Ren He Guan (Zhaojiabang Road)</td>\n",
              "      <td>Dim yellow lights, a nostalgic d√©cor, 1930s m...</td>\n",
              "      <td>ONE_STAR</td>\n",
              "      <td>Shanghai</td>\n",
              "      <td>China Mainland</td>\n",
              "      <td>31.203604</td>\n",
              "      <td>121.453734</td>\n",
              "      <td>https://axwwgrkdco.cloudimg.io/v7/mtp-cf-image...</td>\n",
              "      <td>NaN</td>\n",
              "      <td>Shanghainese</td>\n",
              "      <td>NaN</td>\n",
              "      <td>https://guide.michelin.com/en/shanghai-municip...</td>\n",
              "      <td>NaN</td>\n",
              "    </tr>\n",
              "    <tr>\n",
              "      <th>1549</th>\n",
              "      <td>La Table de La Butte</td>\n",
              "      <td>Fresh, precise and aromatic: Nicolas Conraux, ...</td>\n",
              "      <td>ONE_STAR</td>\n",
              "      <td>Plouider</td>\n",
              "      <td>France</td>\n",
              "      <td>48.611053</td>\n",
              "      <td>-4.298648</td>\n",
              "      <td>https://axwwgrkdco.cloudimg.io/v7/mtp-cf-image...</td>\n",
              "      <td>Nicolas Conraux</td>\n",
              "      <td>Modern Cuisine</td>\n",
              "      <td>NaN</td>\n",
              "      <td>https://guide.michelin.com/en/bretagne/plouide...</td>\n",
              "      <td>https://guide.michelin.com/en/bretagne/plouide...</td>\n",
              "    </tr>\n",
              "    <tr>\n",
              "      <th>2780</th>\n",
              "      <td>Tate</td>\n",
              "      <td>Owner-chef Vicky Lau tells edible stories with...</td>\n",
              "      <td>TWO_STARS</td>\n",
              "      <td>Hong Kong</td>\n",
              "      <td>Hong Kong</td>\n",
              "      <td>22.285576</td>\n",
              "      <td>114.147719</td>\n",
              "      <td>https://axwwgrkdco.cloudimg.io/v7/mtp-cf-image...</td>\n",
              "      <td>Vicky LAU</td>\n",
              "      <td>Innovative</td>\n",
              "      <td>NaN</td>\n",
              "      <td>https://guide.michelin.com/hk/en/hong-kong-reg...</td>\n",
              "      <td>https://guide.michelin.com/en/hong-kong-region...</td>\n",
              "    </tr>\n",
              "    <tr>\n",
              "      <th>2993</th>\n",
              "      <td>Walnut Tree</td>\n",
              "      <td>The Walnut Tree is an iconic restaurant with a...</td>\n",
              "      <td>ONE_STAR</td>\n",
              "      <td>Llanddewi Skirrid</td>\n",
              "      <td>United Kingdom</td>\n",
              "      <td>51.843504</td>\n",
              "      <td>-2.963228</td>\n",
              "      <td>https://axwwgrkdco.cloudimg.io/v7/mitp-p-001-d...</td>\n",
              "      <td>Shaun Hill</td>\n",
              "      <td>Modern British</td>\n",
              "      <td>NaN</td>\n",
              "      <td>https://guide.michelin.com/gb/en/monmouthshire...</td>\n",
              "      <td>https://guide.michelin.com/en/monmouthshire/ll...</td>\n",
              "    </tr>\n",
              "    <tr>\n",
              "      <th>2601</th>\n",
              "      <td>Slagmolen</td>\n",
              "      <td>This characterful restaurant is located in a w...</td>\n",
              "      <td>TWO_STARS</td>\n",
              "      <td>Opglabbeek</td>\n",
              "      <td>Belgium</td>\n",
              "      <td>51.043166</td>\n",
              "      <td>5.615923</td>\n",
              "      <td>https://axwwgrkdco.cloudimg.io/v7/mitp-p-001-d...</td>\n",
              "      <td>Bert Meewis</td>\n",
              "      <td>Traditional Cuisine</td>\n",
              "      <td>NaN</td>\n",
              "      <td>https://guide.michelin.com/en/be-limburg/opgla...</td>\n",
              "      <td>https://guide.michelin.com/en/be-limburg/opgla...</td>\n",
              "    </tr>\n",
              "    <tr>\n",
              "      <th>450</th>\n",
              "      <td>Castel finedining</td>\n",
              "      <td>After more than 20 years, this restaurant has ...</td>\n",
              "      <td>TWO_STARS</td>\n",
              "      <td>Tirol</td>\n",
              "      <td>Italy</td>\n",
              "      <td>46.686222</td>\n",
              "      <td>11.156865</td>\n",
              "      <td>https://axwwgrkdco.cloudimg.io/v7/mitp-p-001-d...</td>\n",
              "      <td>Gerhard Wieser</td>\n",
              "      <td>Creative</td>\n",
              "      <td>Modern Cuisine</td>\n",
              "      <td>https://guide.michelin.com/en/trentino-alto-ad...</td>\n",
              "      <td>https://guide.michelin.com/en/trentino-alto-ad...</td>\n",
              "    </tr>\n",
              "    <tr>\n",
              "      <th>2634</th>\n",
              "      <td>Spazio7</td>\n",
              "      <td>Situated on the first floor of the Spazio Espo...</td>\n",
              "      <td>ONE_STAR</td>\n",
              "      <td>Turin</td>\n",
              "      <td>Italy</td>\n",
              "      <td>45.057612</td>\n",
              "      <td>7.651921</td>\n",
              "      <td>https://axwwgrkdco.cloudimg.io/v7/mitp-p-001-d...</td>\n",
              "      <td>Alessandro Mecca</td>\n",
              "      <td>Modern Cuisine</td>\n",
              "      <td>NaN</td>\n",
              "      <td>https://guide.michelin.com/en/piemonte/torino/...</td>\n",
              "      <td>https://guide.michelin.com/en/piemonte/torino/...</td>\n",
              "    </tr>\n",
              "    <tr>\n",
              "      <th>881</th>\n",
              "      <td>Ginza Fujiyama</td>\n",
              "      <td>Takao Fujiyama says that Kyo-ryori is rooted i...</td>\n",
              "      <td>ONE_STAR</td>\n",
              "      <td>Tokyo</td>\n",
              "      <td>Japan</td>\n",
              "      <td>35.673120</td>\n",
              "      <td>139.765523</td>\n",
              "      <td>https://axwwgrkdco.cloudimg.io/v7/mtp-cf-image...</td>\n",
              "      <td>Takao FUJIYAMA</td>\n",
              "      <td>Japanese</td>\n",
              "      <td>NaN</td>\n",
              "      <td>https://guide.michelin.com/jp/en/tokyo-region/...</td>\n",
              "      <td>https://guide.michelin.com/en/tokyo-region/tok...</td>\n",
              "    </tr>\n",
              "    <tr>\n",
              "      <th>1603</th>\n",
              "      <td>Laite</td>\n",
              "      <td>A family-run restaurant with two women at the ...</td>\n",
              "      <td>ONE_STAR</td>\n",
              "      <td>Sappada</td>\n",
              "      <td>Italy</td>\n",
              "      <td>46.568574</td>\n",
              "      <td>12.694816</td>\n",
              "      <td>https://axwwgrkdco.cloudimg.io/v7/mitp-p-001-d...</td>\n",
              "      <td>Fabrizia Meroi</td>\n",
              "      <td>Regional Cuisine</td>\n",
              "      <td>Traditional Cuisine</td>\n",
              "      <td>https://guide.michelin.com/en/veneto/sappada/r...</td>\n",
              "      <td>https://guide.michelin.com/en/veneto/sappada/r...</td>\n",
              "    </tr>\n",
              "  </tbody>\n",
              "</table>\n",
              "</div>\n",
              "      <button class=\"colab-df-convert\" onclick=\"convertToInteractive('df-03f330fa-bb8c-45ad-85f8-6cb2c38ad9db')\"\n",
              "              title=\"Convert this dataframe to an interactive table.\"\n",
              "              style=\"display:none;\">\n",
              "        \n",
              "  <svg xmlns=\"http://www.w3.org/2000/svg\" height=\"24px\"viewBox=\"0 0 24 24\"\n",
              "       width=\"24px\">\n",
              "    <path d=\"M0 0h24v24H0V0z\" fill=\"none\"/>\n",
              "    <path d=\"M18.56 5.44l.94 2.06.94-2.06 2.06-.94-2.06-.94-.94-2.06-.94 2.06-2.06.94zm-11 1L8.5 8.5l.94-2.06 2.06-.94-2.06-.94L8.5 2.5l-.94 2.06-2.06.94zm10 10l.94 2.06.94-2.06 2.06-.94-2.06-.94-.94-2.06-.94 2.06-2.06.94z\"/><path d=\"M17.41 7.96l-1.37-1.37c-.4-.4-.92-.59-1.43-.59-.52 0-1.04.2-1.43.59L10.3 9.45l-7.72 7.72c-.78.78-.78 2.05 0 2.83L4 21.41c.39.39.9.59 1.41.59.51 0 1.02-.2 1.41-.59l7.78-7.78 2.81-2.81c.8-.78.8-2.07 0-2.86zM5.41 20L4 18.59l7.72-7.72 1.47 1.35L5.41 20z\"/>\n",
              "  </svg>\n",
              "      </button>\n",
              "      \n",
              "  <style>\n",
              "    .colab-df-container {\n",
              "      display:flex;\n",
              "      flex-wrap:wrap;\n",
              "      gap: 12px;\n",
              "    }\n",
              "\n",
              "    .colab-df-convert {\n",
              "      background-color: #E8F0FE;\n",
              "      border: none;\n",
              "      border-radius: 50%;\n",
              "      cursor: pointer;\n",
              "      display: none;\n",
              "      fill: #1967D2;\n",
              "      height: 32px;\n",
              "      padding: 0 0 0 0;\n",
              "      width: 32px;\n",
              "    }\n",
              "\n",
              "    .colab-df-convert:hover {\n",
              "      background-color: #E2EBFA;\n",
              "      box-shadow: 0px 1px 2px rgba(60, 64, 67, 0.3), 0px 1px 3px 1px rgba(60, 64, 67, 0.15);\n",
              "      fill: #174EA6;\n",
              "    }\n",
              "\n",
              "    [theme=dark] .colab-df-convert {\n",
              "      background-color: #3B4455;\n",
              "      fill: #D2E3FC;\n",
              "    }\n",
              "\n",
              "    [theme=dark] .colab-df-convert:hover {\n",
              "      background-color: #434B5C;\n",
              "      box-shadow: 0px 1px 3px 1px rgba(0, 0, 0, 0.15);\n",
              "      filter: drop-shadow(0px 1px 2px rgba(0, 0, 0, 0.3));\n",
              "      fill: #FFFFFF;\n",
              "    }\n",
              "  </style>\n",
              "\n",
              "      <script>\n",
              "        const buttonEl =\n",
              "          document.querySelector('#df-03f330fa-bb8c-45ad-85f8-6cb2c38ad9db button.colab-df-convert');\n",
              "        buttonEl.style.display =\n",
              "          google.colab.kernel.accessAllowed ? 'block' : 'none';\n",
              "\n",
              "        async function convertToInteractive(key) {\n",
              "          const element = document.querySelector('#df-03f330fa-bb8c-45ad-85f8-6cb2c38ad9db');\n",
              "          const dataTable =\n",
              "            await google.colab.kernel.invokeFunction('convertToInteractive',\n",
              "                                                     [key], {});\n",
              "          if (!dataTable) return;\n",
              "\n",
              "          const docLinkHtml = 'Like what you see? Visit the ' +\n",
              "            '<a target=\"_blank\" href=https://colab.research.google.com/notebooks/data_table.ipynb>data table notebook</a>'\n",
              "            + ' to learn more about interactive tables.';\n",
              "          element.innerHTML = '';\n",
              "          dataTable['output_type'] = 'display_data';\n",
              "          await google.colab.output.renderOutput(dataTable, element);\n",
              "          const docLink = document.createElement('div');\n",
              "          docLink.innerHTML = docLinkHtml;\n",
              "          element.appendChild(docLink);\n",
              "        }\n",
              "      </script>\n",
              "    </div>\n",
              "  </div>\n",
              "  "
            ]
          },
          "metadata": {},
          "execution_count": 274
        }
      ]
    },
    {
      "cell_type": "code",
      "source": [
        "#Data Correction\n",
        "df = raw.drop(columns=['image','url','url2']) #drop outliers\n"
      ],
      "metadata": {
        "id": "GCv2rD-aHIXu"
      },
      "execution_count": 275,
      "outputs": []
    },
    {
      "cell_type": "code",
      "source": [
        "df = df.replace({'ONE_STAR': '1-STAR','TWO_STARS' : '2-STARS', 'THREE_STARS' : '3-STARS'}) #Revised info of michelin_award column"
      ],
      "metadata": {
        "id": "MMmcIFymJ0r6"
      },
      "execution_count": 276,
      "outputs": []
    },
    {
      "cell_type": "code",
      "source": [
        "df = df.replace({'–†–æ—Å—Å–∏—è':'Russia','Taipei & Taichung':'Taiwan', 'China Mainland': 'China'}) #Country name correction"
      ],
      "metadata": {
        "id": "SGFdq-_GJyDP"
      },
      "execution_count": 277,
      "outputs": []
    },
    {
      "cell_type": "code",
      "source": [
        "df.head()"
      ],
      "metadata": {
        "colab": {
          "base_uri": "https://localhost:8080/",
          "height": 510
        },
        "id": "GUcVU5eoPkVR",
        "outputId": "2e452139-02c2-4250-aa0f-e1336a33e3fa"
      },
      "execution_count": 278,
      "outputs": [
        {
          "output_type": "execute_result",
          "data": {
            "text/plain": [
              "                 name                                              blurb  \\\n",
              "0           'L Chimpl  Haute cuisine has arrived at the ‚Äúsimple‚Äù ...   \n",
              "1  't Amsterdammertje       If you‚Äôre a fan of hip, vibrant and trendy   \n",
              "2          't Fornuis  ‚Äôt Fornuis is a restaurant that has become rare   \n",
              "3        't Korennaer  Edwin Van Goethem jazzes up his cooking with i...   \n",
              "4          't Lansink  Warmth and character are the hallmarks of ‚Äôt...   \n",
              "\n",
              "  michelin_award                 city      country        lat        lon  \\\n",
              "0         1-STAR               Tamion        Italy  46.407342  11.656432   \n",
              "1         1-STAR  Loenen aan de Vecht  Netherlands  52.209859   5.021655   \n",
              "2         1-STAR            Antwerpen      Belgium  51.219039   4.399448   \n",
              "3         1-STAR     Nieuwkerken-Waas      Belgium  51.192947   4.178107   \n",
              "4         1-STAR              Hengelo  Netherlands  52.259676   6.782364   \n",
              "\n",
              "                chef         cuisine1       cuisine2  \n",
              "0     Stefano Ghetta         Creative   Contemporary  \n",
              "1     Andr√© Gerrits         Creative            NaN  \n",
              "2       Johan Segers  Classic Cuisine            NaN  \n",
              "3  Edwin Van Goethem   Modern Cuisine            NaN  \n",
              "4     Lars van Galen   Modern Cuisine  Modern French  "
            ],
            "text/html": [
              "\n",
              "  <div id=\"df-281a9eca-ca49-4b73-b50c-6fb24fc67977\">\n",
              "    <div class=\"colab-df-container\">\n",
              "      <div>\n",
              "<style scoped>\n",
              "    .dataframe tbody tr th:only-of-type {\n",
              "        vertical-align: middle;\n",
              "    }\n",
              "\n",
              "    .dataframe tbody tr th {\n",
              "        vertical-align: top;\n",
              "    }\n",
              "\n",
              "    .dataframe thead th {\n",
              "        text-align: right;\n",
              "    }\n",
              "</style>\n",
              "<table border=\"1\" class=\"dataframe\">\n",
              "  <thead>\n",
              "    <tr style=\"text-align: right;\">\n",
              "      <th></th>\n",
              "      <th>name</th>\n",
              "      <th>blurb</th>\n",
              "      <th>michelin_award</th>\n",
              "      <th>city</th>\n",
              "      <th>country</th>\n",
              "      <th>lat</th>\n",
              "      <th>lon</th>\n",
              "      <th>chef</th>\n",
              "      <th>cuisine1</th>\n",
              "      <th>cuisine2</th>\n",
              "    </tr>\n",
              "  </thead>\n",
              "  <tbody>\n",
              "    <tr>\n",
              "      <th>0</th>\n",
              "      <td>'L Chimpl</td>\n",
              "      <td>Haute cuisine has arrived at the ‚Äúsimple‚Äù ...</td>\n",
              "      <td>1-STAR</td>\n",
              "      <td>Tamion</td>\n",
              "      <td>Italy</td>\n",
              "      <td>46.407342</td>\n",
              "      <td>11.656432</td>\n",
              "      <td>Stefano Ghetta</td>\n",
              "      <td>Creative</td>\n",
              "      <td>Contemporary</td>\n",
              "    </tr>\n",
              "    <tr>\n",
              "      <th>1</th>\n",
              "      <td>'t Amsterdammertje</td>\n",
              "      <td>If you‚Äôre a fan of hip, vibrant and trendy</td>\n",
              "      <td>1-STAR</td>\n",
              "      <td>Loenen aan de Vecht</td>\n",
              "      <td>Netherlands</td>\n",
              "      <td>52.209859</td>\n",
              "      <td>5.021655</td>\n",
              "      <td>Andr√© Gerrits</td>\n",
              "      <td>Creative</td>\n",
              "      <td>NaN</td>\n",
              "    </tr>\n",
              "    <tr>\n",
              "      <th>2</th>\n",
              "      <td>'t Fornuis</td>\n",
              "      <td>‚Äôt Fornuis is a restaurant that has become rare</td>\n",
              "      <td>1-STAR</td>\n",
              "      <td>Antwerpen</td>\n",
              "      <td>Belgium</td>\n",
              "      <td>51.219039</td>\n",
              "      <td>4.399448</td>\n",
              "      <td>Johan Segers</td>\n",
              "      <td>Classic Cuisine</td>\n",
              "      <td>NaN</td>\n",
              "    </tr>\n",
              "    <tr>\n",
              "      <th>3</th>\n",
              "      <td>'t Korennaer</td>\n",
              "      <td>Edwin Van Goethem jazzes up his cooking with i...</td>\n",
              "      <td>1-STAR</td>\n",
              "      <td>Nieuwkerken-Waas</td>\n",
              "      <td>Belgium</td>\n",
              "      <td>51.192947</td>\n",
              "      <td>4.178107</td>\n",
              "      <td>Edwin Van Goethem</td>\n",
              "      <td>Modern Cuisine</td>\n",
              "      <td>NaN</td>\n",
              "    </tr>\n",
              "    <tr>\n",
              "      <th>4</th>\n",
              "      <td>'t Lansink</td>\n",
              "      <td>Warmth and character are the hallmarks of ‚Äôt...</td>\n",
              "      <td>1-STAR</td>\n",
              "      <td>Hengelo</td>\n",
              "      <td>Netherlands</td>\n",
              "      <td>52.259676</td>\n",
              "      <td>6.782364</td>\n",
              "      <td>Lars van Galen</td>\n",
              "      <td>Modern Cuisine</td>\n",
              "      <td>Modern French</td>\n",
              "    </tr>\n",
              "  </tbody>\n",
              "</table>\n",
              "</div>\n",
              "      <button class=\"colab-df-convert\" onclick=\"convertToInteractive('df-281a9eca-ca49-4b73-b50c-6fb24fc67977')\"\n",
              "              title=\"Convert this dataframe to an interactive table.\"\n",
              "              style=\"display:none;\">\n",
              "        \n",
              "  <svg xmlns=\"http://www.w3.org/2000/svg\" height=\"24px\"viewBox=\"0 0 24 24\"\n",
              "       width=\"24px\">\n",
              "    <path d=\"M0 0h24v24H0V0z\" fill=\"none\"/>\n",
              "    <path d=\"M18.56 5.44l.94 2.06.94-2.06 2.06-.94-2.06-.94-.94-2.06-.94 2.06-2.06.94zm-11 1L8.5 8.5l.94-2.06 2.06-.94-2.06-.94L8.5 2.5l-.94 2.06-2.06.94zm10 10l.94 2.06.94-2.06 2.06-.94-2.06-.94-.94-2.06-.94 2.06-2.06.94z\"/><path d=\"M17.41 7.96l-1.37-1.37c-.4-.4-.92-.59-1.43-.59-.52 0-1.04.2-1.43.59L10.3 9.45l-7.72 7.72c-.78.78-.78 2.05 0 2.83L4 21.41c.39.39.9.59 1.41.59.51 0 1.02-.2 1.41-.59l7.78-7.78 2.81-2.81c.8-.78.8-2.07 0-2.86zM5.41 20L4 18.59l7.72-7.72 1.47 1.35L5.41 20z\"/>\n",
              "  </svg>\n",
              "      </button>\n",
              "      \n",
              "  <style>\n",
              "    .colab-df-container {\n",
              "      display:flex;\n",
              "      flex-wrap:wrap;\n",
              "      gap: 12px;\n",
              "    }\n",
              "\n",
              "    .colab-df-convert {\n",
              "      background-color: #E8F0FE;\n",
              "      border: none;\n",
              "      border-radius: 50%;\n",
              "      cursor: pointer;\n",
              "      display: none;\n",
              "      fill: #1967D2;\n",
              "      height: 32px;\n",
              "      padding: 0 0 0 0;\n",
              "      width: 32px;\n",
              "    }\n",
              "\n",
              "    .colab-df-convert:hover {\n",
              "      background-color: #E2EBFA;\n",
              "      box-shadow: 0px 1px 2px rgba(60, 64, 67, 0.3), 0px 1px 3px 1px rgba(60, 64, 67, 0.15);\n",
              "      fill: #174EA6;\n",
              "    }\n",
              "\n",
              "    [theme=dark] .colab-df-convert {\n",
              "      background-color: #3B4455;\n",
              "      fill: #D2E3FC;\n",
              "    }\n",
              "\n",
              "    [theme=dark] .colab-df-convert:hover {\n",
              "      background-color: #434B5C;\n",
              "      box-shadow: 0px 1px 3px 1px rgba(0, 0, 0, 0.15);\n",
              "      filter: drop-shadow(0px 1px 2px rgba(0, 0, 0, 0.3));\n",
              "      fill: #FFFFFF;\n",
              "    }\n",
              "  </style>\n",
              "\n",
              "      <script>\n",
              "        const buttonEl =\n",
              "          document.querySelector('#df-281a9eca-ca49-4b73-b50c-6fb24fc67977 button.colab-df-convert');\n",
              "        buttonEl.style.display =\n",
              "          google.colab.kernel.accessAllowed ? 'block' : 'none';\n",
              "\n",
              "        async function convertToInteractive(key) {\n",
              "          const element = document.querySelector('#df-281a9eca-ca49-4b73-b50c-6fb24fc67977');\n",
              "          const dataTable =\n",
              "            await google.colab.kernel.invokeFunction('convertToInteractive',\n",
              "                                                     [key], {});\n",
              "          if (!dataTable) return;\n",
              "\n",
              "          const docLinkHtml = 'Like what you see? Visit the ' +\n",
              "            '<a target=\"_blank\" href=https://colab.research.google.com/notebooks/data_table.ipynb>data table notebook</a>'\n",
              "            + ' to learn more about interactive tables.';\n",
              "          element.innerHTML = '';\n",
              "          dataTable['output_type'] = 'display_data';\n",
              "          await google.colab.output.renderOutput(dataTable, element);\n",
              "          const docLink = document.createElement('div');\n",
              "          docLink.innerHTML = docLinkHtml;\n",
              "          element.appendChild(docLink);\n",
              "        }\n",
              "      </script>\n",
              "    </div>\n",
              "  </div>\n",
              "  "
            ]
          },
          "metadata": {},
          "execution_count": 278
        }
      ]
    },
    {
      "cell_type": "code",
      "source": [
        "#Data Analysis\n",
        "#1. Number of restaurants classified by star\n",
        "award = df['michelin_award'].value_counts(ascending=False)\n",
        "print(award)"
      ],
      "metadata": {
        "colab": {
          "base_uri": "https://localhost:8080/"
        },
        "id": "hpUUyBgDSYVq",
        "outputId": "65729727-b0ab-40a7-f407-bffdf103a69d"
      },
      "execution_count": 279,
      "outputs": [
        {
          "output_type": "stream",
          "name": "stdout",
          "text": [
            "1-STAR     2590\n",
            "2-STARS     468\n",
            "3-STARS     134\n",
            "Name: michelin_award, dtype: int64\n"
          ]
        }
      ]
    },
    {
      "cell_type": "code",
      "source": [
        "award.plot(kind='bar', color='#630606', title = 'The number of Michelin Star Restaurants Classified by Ratings')"
      ],
      "metadata": {
        "colab": {
          "base_uri": "https://localhost:8080/",
          "height": 331
        },
        "id": "-3GZYaXnaKpi",
        "outputId": "3e25bf7c-c00e-4cab-b8b8-e87ab69f393e"
      },
      "execution_count": 280,
      "outputs": [
        {
          "output_type": "execute_result",
          "data": {
            "text/plain": [
              "<matplotlib.axes._subplots.AxesSubplot at 0x7fa587d1d910>"
            ]
          },
          "metadata": {},
          "execution_count": 280
        },
        {
          "output_type": "display_data",
          "data": {
            "text/plain": [
              "<Figure size 432x288 with 1 Axes>"
            ],
            "image/png": "[encoded data removed]"
          },
          "metadata": {
            "needs_background": "light"
          }
        }
      ]
    },
    {
      "cell_type": "code",
      "source": [
        "#2. Which country has the most Michelin Star Restaurants in the world? \n",
        "top_counties = df.groupby(['country'])['michelin_award'].count().nlargest(5)\n",
        "print(top_counties)"
      ],
      "metadata": {
        "colab": {
          "base_uri": "https://localhost:8080/"
        },
        "id": "QWzNvxNfSYZD",
        "outputId": "9fc122ea-13e9-450e-b1fe-c5d56b56616b"
      },
      "execution_count": 281,
      "outputs": [
        {
          "output_type": "stream",
          "name": "stdout",
          "text": [
            "country\n",
            "France     618\n",
            "Japan      406\n",
            "Italy      375\n",
            "Germany    231\n",
            "Spain      228\n",
            "Name: michelin_award, dtype: int64\n"
          ]
        }
      ]
    },
    {
      "cell_type": "code",
      "source": [
        "top_counties.plot(kind = 'bar', color = '#630606', title = 'Michelin Star Top 5 Countries')\n"
      ],
      "metadata": {
        "colab": {
          "base_uri": "https://localhost:8080/",
          "height": 349
        },
        "id": "LEbiiTs_wMPC",
        "outputId": "28f483e8-2533-4aab-e019-a3a6fcee5094"
      },
      "execution_count": 282,
      "outputs": [
        {
          "output_type": "execute_result",
          "data": {
            "text/plain": [
              "<matplotlib.axes._subplots.AxesSubplot at 0x7fa587aa18d0>"
            ]
          },
          "metadata": {},
          "execution_count": 282
        },
        {
          "output_type": "display_data",
          "data": {
            "text/plain": [
              "<Figure size 432x288 with 1 Axes>"
            ],
            "image/png": "[encoded data removed]"
          },
          "metadata": {
            "needs_background": "light"
          }
        }
      ]
    },
    {
      "cell_type": "code",
      "source": [
        "#3. Which city has the most Michelin Star Restaurants in the world? (1-star/2-stars/3-stars)\n",
        "top_cities = df.groupby(['city'])['michelin_award'].count().nlargest(5)\n",
        "print(top_cities)\n"
      ],
      "metadata": {
        "colab": {
          "base_uri": "https://localhost:8080/"
        },
        "id": "zUPLHMksSYel",
        "outputId": "7c2a7be4-ba75-47e0-fc89-a43c2e74222e"
      },
      "execution_count": 283,
      "outputs": [
        {
          "output_type": "stream",
          "name": "stdout",
          "text": [
            "city\n",
            "Tokyo        203\n",
            "Kyoto        108\n",
            "Paris        108\n",
            "Osaka         95\n",
            "Hong Kong     71\n",
            "Name: michelin_award, dtype: int64\n"
          ]
        }
      ]
    },
    {
      "cell_type": "code",
      "source": [
        "top_cities.plot(kind = 'bar', color = '#630606', title = 'Michelin Star Top 5 Cities')"
      ],
      "metadata": {
        "colab": {
          "base_uri": "https://localhost:8080/",
          "height": 357
        },
        "id": "GCUWnhRt0eZZ",
        "outputId": "5ac063a0-0a2c-4f13-aa9a-9c468a980c36"
      },
      "execution_count": 284,
      "outputs": [
        {
          "output_type": "execute_result",
          "data": {
            "text/plain": [
              "<matplotlib.axes._subplots.AxesSubplot at 0x7fa587bc7090>"
            ]
          },
          "metadata": {},
          "execution_count": 284
        },
        {
          "output_type": "display_data",
          "data": {
            "text/plain": [
              "<Figure size 432x288 with 1 Axes>"
            ],
            "image/png": "[encoded data removed]"
          },
          "metadata": {
            "needs_background": "light"
          }
        }
      ]
    },
    {
      "cell_type": "code",
      "source": [
        "#4. What is the most common cuisine Michelin star resaturants have? \n",
        "top5cuisine = df.cuisine1.value_counts().reset_index().rename(columns={'index': 'cuisine_kind', \n",
        "                                                                            'cuisine1': 'count'}\n",
        "                                                                            ).head(5).set_index('cuisine_kind')\n",
        "print(top5cuisine)"
      ],
      "metadata": {
        "colab": {
          "base_uri": "https://localhost:8080/"
        },
        "id": "18Gt3f7fVVSo",
        "outputId": "cf1d0b7e-9e88-41e6-d67d-52689a3deb54"
      },
      "execution_count": 285,
      "outputs": [
        {
          "output_type": "stream",
          "name": "stdout",
          "text": [
            "                count\n",
            "cuisine_kind         \n",
            "Modern Cuisine    874\n",
            "Creative          640\n",
            "Japanese          263\n",
            "Contemporary      118\n",
            "French            110\n"
          ]
        }
      ]
    },
    {
      "cell_type": "code",
      "source": [
        "#Translate in to percentage\n",
        "pct_top_cuisines = round(top10cuisine['count'] * (100) / df['name'].count())\n",
        "print(pct_top_cuisines)"
      ],
      "metadata": {
        "colab": {
          "base_uri": "https://localhost:8080/"
        },
        "id": "T-13q5srVVWl",
        "outputId": "4184c4c3-4d56-4c2b-e4f5-74e6c1970631"
      },
      "execution_count": 286,
      "outputs": [
        {
          "output_type": "stream",
          "name": "stdout",
          "text": [
            "cuisine_kind\n",
            "Modern Cuisine    27.0\n",
            "Creative          20.0\n",
            "Japanese           8.0\n",
            "Contemporary       4.0\n",
            "French             3.0\n",
            "Name: count, dtype: float64\n"
          ]
        }
      ]
    },
    {
      "cell_type": "code",
      "source": [
        "pct_top_cuisines.plot(kind = 'bar', color = '#630606', title = 'Top 5 Cuisines')"
      ],
      "metadata": {
        "colab": {
          "base_uri": "https://localhost:8080/",
          "height": 382
        },
        "id": "tGrfgGUCVVY3",
        "outputId": "ac459e91-30e2-4157-d7b1-8b2bdbe707fc"
      },
      "execution_count": 287,
      "outputs": [
        {
          "output_type": "execute_result",
          "data": {
            "text/plain": [
              "<matplotlib.axes._subplots.AxesSubplot at 0x7fa587987550>"
            ]
          },
          "metadata": {},
          "execution_count": 287
        },
        {
          "output_type": "display_data",
          "data": {
            "text/plain": [
              "<Figure size 432x288 with 1 Axes>"
            ],
            "image/png": "[encoded data removed]"
          },
          "metadata": {
            "needs_background": "light"
          }
        }
      ]
    },
    {
      "cell_type": "code",
      "source": [
        ""
      ],
      "metadata": {
        "id": "wapLvJxVVVbH"
      },
      "execution_count": 287,
      "outputs": []
    }
  ]
}